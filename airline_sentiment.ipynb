{
 "cells": [
  {
   "cell_type": "code",
   "execution_count": 183,
   "metadata": {
    "colab": {
     "base_uri": "https://localhost:8080/"
    },
    "id": "NhkaMUPgarWB",
    "outputId": "e60719bb-3607-4693-b80f-943fba15a66c"
   },
   "outputs": [
    {
     "name": "stdout",
     "output_type": "stream",
     "text": [
      "Requirement already satisfied: emoji in c:\\users\\lenovo\\anaconda3\\lib\\site-packages (2.1.0)\n",
      "Note: you may need to restart the kernel to use updated packages.\n"
     ]
    }
   ],
   "source": [
    "pip install emoji --upgrade"
   ]
  },
  {
   "cell_type": "code",
   "execution_count": 184,
   "metadata": {
    "colab": {
     "base_uri": "https://localhost:8080/"
    },
    "id": "A4V4wmDgbXty",
    "outputId": "e07c8edf-29f4-4972-a02a-14a951a5852d"
   },
   "outputs": [
    {
     "name": "stdout",
     "output_type": "stream",
     "text": [
      "Requirement already satisfied: contractions in c:\\users\\lenovo\\anaconda3\\lib\\site-packages (0.1.72)\n",
      "Requirement already satisfied: textsearch>=0.0.21 in c:\\users\\lenovo\\anaconda3\\lib\\site-packages (from contractions) (0.0.24)\n",
      "Requirement already satisfied: anyascii in c:\\users\\lenovo\\anaconda3\\lib\\site-packages (from textsearch>=0.0.21->contractions) (0.3.1)\n",
      "Requirement already satisfied: pyahocorasick in c:\\users\\lenovo\\anaconda3\\lib\\site-packages (from textsearch>=0.0.21->contractions) (1.4.4)\n",
      "Note: you may need to restart the kernel to use updated packages.\n"
     ]
    }
   ],
   "source": [
    "pip install contractions"
   ]
  },
  {
   "cell_type": "code",
   "execution_count": 185,
   "metadata": {
    "colab": {
     "base_uri": "https://localhost:8080/"
    },
    "id": "JG5BPhRubXrd",
    "outputId": "5a89fca3-b994-483a-d91b-f432065b2819"
   },
   "outputs": [
    {
     "name": "stdout",
     "output_type": "stream",
     "text": [
      "Requirement already satisfied: nltk in c:\\users\\lenovo\\anaconda3\\lib\\site-packages (3.6.5)\n",
      "Requirement already satisfied: click in c:\\users\\lenovo\\anaconda3\\lib\\site-packages (from nltk) (8.0.3)\n",
      "Requirement already satisfied: joblib in c:\\users\\lenovo\\anaconda3\\lib\\site-packages (from nltk) (1.1.0)\n",
      "Requirement already satisfied: regex>=2021.8.3 in c:\\users\\lenovo\\anaconda3\\lib\\site-packages (from nltk) (2021.8.3)\n",
      "Requirement already satisfied: tqdm in c:\\users\\lenovo\\anaconda3\\lib\\site-packages (from nltk) (4.62.3)\n",
      "Requirement already satisfied: colorama in c:\\users\\lenovo\\anaconda3\\lib\\site-packages (from click->nltk) (0.4.4)\n",
      "Note: you may need to restart the kernel to use updated packages.\n"
     ]
    }
   ],
   "source": [
    "pip install nltk"
   ]
  },
  {
   "cell_type": "code",
   "execution_count": 186,
   "metadata": {
    "colab": {
     "base_uri": "https://localhost:8080/"
    },
    "id": "870o21r_bXoK",
    "outputId": "a4d1862a-f1b5-4651-b520-532f3e32937a"
   },
   "outputs": [
    {
     "name": "stdout",
     "output_type": "stream",
     "text": [
      "Requirement already satisfied: googletrans==4.0.0-rc1 in c:\\users\\lenovo\\anaconda3\\lib\\site-packages (4.0.0rc1)\n",
      "Requirement already satisfied: httpx==0.13.3 in c:\\users\\lenovo\\anaconda3\\lib\\site-packages (from googletrans==4.0.0-rc1) (0.13.3)\n",
      "Requirement already satisfied: httpcore==0.9.* in c:\\users\\lenovo\\anaconda3\\lib\\site-packages (from httpx==0.13.3->googletrans==4.0.0-rc1) (0.9.1)\n",
      "Requirement already satisfied: certifi in c:\\users\\lenovo\\anaconda3\\lib\\site-packages (from httpx==0.13.3->googletrans==4.0.0-rc1) (2021.10.8)\n",
      "Requirement already satisfied: hstspreload in c:\\users\\lenovo\\anaconda3\\lib\\site-packages (from httpx==0.13.3->googletrans==4.0.0-rc1) (2022.10.1)\n",
      "Requirement already satisfied: rfc3986<2,>=1.3 in c:\\users\\lenovo\\anaconda3\\lib\\site-packages (from httpx==0.13.3->googletrans==4.0.0-rc1) (1.5.0)\n",
      "Requirement already satisfied: chardet==3.* in c:\\users\\lenovo\\anaconda3\\lib\\site-packages (from httpx==0.13.3->googletrans==4.0.0-rc1) (3.0.4)\n",
      "Requirement already satisfied: idna==2.* in c:\\users\\lenovo\\anaconda3\\lib\\site-packages (from httpx==0.13.3->googletrans==4.0.0-rc1) (2.10)\n",
      "Requirement already satisfied: sniffio in c:\\users\\lenovo\\anaconda3\\lib\\site-packages (from httpx==0.13.3->googletrans==4.0.0-rc1) (1.2.0)\n",
      "Requirement already satisfied: h2==3.* in c:\\users\\lenovo\\anaconda3\\lib\\site-packages (from httpcore==0.9.*->httpx==0.13.3->googletrans==4.0.0-rc1) (3.2.0)\n",
      "Requirement already satisfied: h11<0.10,>=0.8 in c:\\users\\lenovo\\anaconda3\\lib\\site-packages (from httpcore==0.9.*->httpx==0.13.3->googletrans==4.0.0-rc1) (0.9.0)\n",
      "Requirement already satisfied: hyperframe<6,>=5.2.0 in c:\\users\\lenovo\\anaconda3\\lib\\site-packages (from h2==3.*->httpcore==0.9.*->httpx==0.13.3->googletrans==4.0.0-rc1) (5.2.0)\n",
      "Requirement already satisfied: hpack<4,>=3.0 in c:\\users\\lenovo\\anaconda3\\lib\\site-packages (from h2==3.*->httpcore==0.9.*->httpx==0.13.3->googletrans==4.0.0-rc1) (3.0.0)\n",
      "Note: you may need to restart the kernel to use updated packages.\n"
     ]
    }
   ],
   "source": [
    "pip install googletrans==4.0.0-rc1"
   ]
  },
  {
   "cell_type": "code",
   "execution_count": 187,
   "metadata": {
    "colab": {
     "base_uri": "https://localhost:8080/"
    },
    "id": "8uK6KaRzjBfp",
    "outputId": "8166c7c1-9757-4a19-bc6d-034c0f3f55da"
   },
   "outputs": [
    {
     "name": "stdout",
     "output_type": "stream",
     "text": [
      "Requirement already satisfied: scikit-learn in c:\\users\\lenovo\\anaconda3\\lib\\site-packages (1.1.2)\n",
      "Requirement already satisfied: threadpoolctl>=2.0.0 in c:\\users\\lenovo\\anaconda3\\lib\\site-packages (from scikit-learn) (2.2.0)\n",
      "Requirement already satisfied: scipy>=1.3.2 in c:\\users\\lenovo\\anaconda3\\lib\\site-packages (from scikit-learn) (1.7.1)\n",
      "Requirement already satisfied: numpy>=1.17.3 in c:\\users\\lenovo\\anaconda3\\lib\\site-packages (from scikit-learn) (1.20.3)\n",
      "Requirement already satisfied: joblib>=1.0.0 in c:\\users\\lenovo\\anaconda3\\lib\\site-packages (from scikit-learn) (1.1.0)\n",
      "Note: you may need to restart the kernel to use updated packages.\n"
     ]
    }
   ],
   "source": [
    "pip install -U scikit-learn"
   ]
  },
  {
   "cell_type": "code",
   "execution_count": 188,
   "metadata": {
    "colab": {
     "base_uri": "https://localhost:8080/"
    },
    "id": "ItVagmwTcYis",
    "outputId": "17a23764-061d-43a6-ef65-34b783f1957f"
   },
   "outputs": [
    {
     "name": "stdout",
     "output_type": "stream",
     "text": [
      "Requirement already satisfied: langdetect in c:\\users\\lenovo\\anaconda3\\lib\\site-packages (1.0.9)\n",
      "Requirement already satisfied: six in c:\\users\\lenovo\\anaconda3\\lib\\site-packages (from langdetect) (1.16.0)\n",
      "Note: you may need to restart the kernel to use updated packages.\n"
     ]
    }
   ],
   "source": [
    "pip install langdetect"
   ]
  },
  {
   "cell_type": "code",
   "execution_count": 189,
   "metadata": {
    "id": "seYhXXzcxV2o"
   },
   "outputs": [],
   "source": [
    "# pip install googletrans 3.1.0a0"
   ]
  },
  {
   "cell_type": "code",
   "execution_count": 190,
   "metadata": {
    "colab": {
     "base_uri": "https://localhost:8080/"
    },
    "id": "ei3XXvOmxVzA",
    "outputId": "bf73b36a-c7de-4397-929d-bd84e6a2f24e"
   },
   "outputs": [
    {
     "name": "stdout",
     "output_type": "stream",
     "text": [
      "Requirement already satisfied: deep-translator in c:\\users\\lenovo\\anaconda3\\lib\\site-packages (1.9.0)\n",
      "Requirement already satisfied: beautifulsoup4<5.0.0,>=4.9.1 in c:\\users\\lenovo\\anaconda3\\lib\\site-packages (from deep-translator) (4.10.0)\n",
      "Requirement already satisfied: requests<3.0.0,>=2.23.0 in c:\\users\\lenovo\\anaconda3\\lib\\site-packages (from deep-translator) (2.28.1)\n",
      "Requirement already satisfied: soupsieve>1.2 in c:\\users\\lenovo\\anaconda3\\lib\\site-packages (from beautifulsoup4<5.0.0,>=4.9.1->deep-translator) (2.2.1)\n",
      "Requirement already satisfied: urllib3<1.27,>=1.21.1 in c:\\users\\lenovo\\anaconda3\\lib\\site-packages (from requests<3.0.0,>=2.23.0->deep-translator) (1.26.7)\n",
      "Requirement already satisfied: certifi>=2017.4.17 in c:\\users\\lenovo\\anaconda3\\lib\\site-packages (from requests<3.0.0,>=2.23.0->deep-translator) (2021.10.8)\n",
      "Requirement already satisfied: idna<4,>=2.5 in c:\\users\\lenovo\\anaconda3\\lib\\site-packages (from requests<3.0.0,>=2.23.0->deep-translator) (2.10)\n",
      "Requirement already satisfied: charset-normalizer<3,>=2 in c:\\users\\lenovo\\anaconda3\\lib\\site-packages (from requests<3.0.0,>=2.23.0->deep-translator) (2.0.4)\n",
      "Note: you may need to restart the kernel to use updated packages.\n"
     ]
    }
   ],
   "source": [
    "pip install deep-translator"
   ]
  },
  {
   "cell_type": "code",
   "execution_count": 191,
   "metadata": {},
   "outputs": [
    {
     "name": "stdout",
     "output_type": "stream",
     "text": [
      "Requirement already satisfied: lightgbm in c:\\users\\lenovo\\anaconda3\\lib\\site-packages (3.3.2)Note: you may need to restart the kernel to use updated packages.\n",
      "\n",
      "Requirement already satisfied: scikit-learn!=0.22.0 in c:\\users\\lenovo\\anaconda3\\lib\\site-packages (from lightgbm) (1.1.2)\n",
      "Requirement already satisfied: numpy in c:\\users\\lenovo\\anaconda3\\lib\\site-packages (from lightgbm) (1.20.3)\n",
      "Requirement already satisfied: wheel in c:\\users\\lenovo\\anaconda3\\lib\\site-packages (from lightgbm) (0.37.0)\n",
      "Requirement already satisfied: scipy in c:\\users\\lenovo\\anaconda3\\lib\\site-packages (from lightgbm) (1.7.1)\n",
      "Requirement already satisfied: threadpoolctl>=2.0.0 in c:\\users\\lenovo\\anaconda3\\lib\\site-packages (from scikit-learn!=0.22.0->lightgbm) (2.2.0)\n",
      "Requirement already satisfied: joblib>=1.0.0 in c:\\users\\lenovo\\anaconda3\\lib\\site-packages (from scikit-learn!=0.22.0->lightgbm) (1.1.0)\n"
     ]
    }
   ],
   "source": [
    "pip install lightgbm"
   ]
  },
  {
   "cell_type": "code",
   "execution_count": 192,
   "metadata": {},
   "outputs": [
    {
     "name": "stdout",
     "output_type": "stream",
     "text": [
      "Requirement already satisfied: xgboost in c:\\users\\lenovo\\anaconda3\\lib\\site-packages (1.6.2)\n",
      "Requirement already satisfied: numpy in c:\\users\\lenovo\\anaconda3\\lib\\site-packages (from xgboost) (1.20.3)\n",
      "Requirement already satisfied: scipy in c:\\users\\lenovo\\anaconda3\\lib\\site-packages (from xgboost) (1.7.1)\n",
      "Note: you may need to restart the kernel to use updated packages.\n"
     ]
    }
   ],
   "source": [
    "pip install xgboost"
   ]
  },
  {
   "cell_type": "code",
   "execution_count": 193,
   "metadata": {
    "colab": {
     "base_uri": "https://localhost:8080/"
    },
    "id": "ONk4_8v3TswR",
    "outputId": "d1b87cf0-fed2-4b75-d1dd-707c1c5580a7"
   },
   "outputs": [
    {
     "name": "stderr",
     "output_type": "stream",
     "text": [
      "[nltk_data] Downloading package punkt to\n",
      "[nltk_data]     C:\\Users\\Lenovo\\AppData\\Roaming\\nltk_data...\n",
      "[nltk_data]   Package punkt is already up-to-date!\n",
      "[nltk_data] Downloading package stopwords to\n",
      "[nltk_data]     C:\\Users\\Lenovo\\AppData\\Roaming\\nltk_data...\n",
      "[nltk_data]   Package stopwords is already up-to-date!\n"
     ]
    }
   ],
   "source": [
    "import pandas as pd\n",
    "import numpy as np\n",
    "import matplotlib.pyplot as plt\n",
    "\n",
    "import re\n",
    "import emoji\n",
    "import contractions\n",
    "\n",
    "from deep_translator import GoogleTranslator\n",
    "from langdetect import detect\n",
    "\n",
    "import nltk\n",
    "from nltk.tokenize import word_tokenize\n",
    "nltk.download('punkt')\n",
    "from nltk.corpus import stopwords\n",
    "nltk.download('stopwords')\n",
    "from nltk.stem.snowball import SnowballStemmer\n",
    "\n",
    "import time\n",
    "import string\n",
    "\n",
    "from sklearn.model_selection import GridSearchCV\n",
    "\n",
    "from sklearn.ensemble import RandomForestClassifier\n",
    "from sklearn.svm import SVC\n",
    "\n",
    "from sklearn.feature_extraction.text import CountVectorizer\n",
    "from sklearn.feature_extraction.text import TfidfVectorizer\n",
    "\n",
    "from sklearn.metrics import accuracy_score\n",
    "from sklearn.metrics import confusion_matrix\n",
    "\n",
    "from imblearn.over_sampling import SMOTE\n",
    "from sklearn.model_selection import train_test_split\n",
    "\n",
    "from sklearn.linear_model import LogisticRegression\n",
    "from lightgbm import LGBMClassifier\n",
    "from xgboost import XGBClassifier"
   ]
  },
  {
   "cell_type": "code",
   "execution_count": 194,
   "metadata": {},
   "outputs": [],
   "source": [
    "import warnings\n",
    "warnings.filterwarnings(\"ignore\")"
   ]
  },
  {
   "cell_type": "code",
   "execution_count": 195,
   "metadata": {
    "colab": {
     "base_uri": "https://localhost:8080/"
    },
    "id": "3CRTj6TKTszA",
    "outputId": "72d9f98a-1b66-4a21-fe9f-526a2837a427"
   },
   "outputs": [
    {
     "name": "stdout",
     "output_type": "stream",
     "text": [
      "(11541, 3)\n"
     ]
    }
   ],
   "source": [
    "df = pd.read_csv(\"E:/download/airline_sentiment_analysis.csv\")\n",
    "df.head()\n",
    "print(df.shape)"
   ]
  },
  {
   "cell_type": "code",
   "execution_count": 196,
   "metadata": {
    "colab": {
     "base_uri": "https://localhost:8080/"
    },
    "id": "viv7dOnaX0Fx",
    "outputId": "ab62e32e-fb5b-4ee3-b446-5d8d7336997a"
   },
   "outputs": [
    {
     "data": {
      "text/plain": [
       "(11385, 2)"
      ]
     },
     "execution_count": 196,
     "metadata": {},
     "output_type": "execute_result"
    }
   ],
   "source": [
    "df.drop('Unnamed: 0', axis = 1, inplace = True) # Dropping it so to get row numbers without discountinuity\n",
    "df.drop_duplicates(inplace = True)\n",
    "df.shape"
   ]
  },
  {
   "cell_type": "code",
   "execution_count": 197,
   "metadata": {
    "colab": {
     "base_uri": "https://localhost:8080/",
     "height": 248
    },
    "id": "W_bUwqlQT1xf",
    "outputId": "6ad73c86-583a-459c-c5c1-866daed3b38a"
   },
   "outputs": [
    {
     "data": {
      "image/png": "[encoded data removed]",
      "text/plain": [
       "<Figure size 432x288 with 1 Axes>"
      ]
     },
     "metadata": {},
     "output_type": "display_data"
    }
   ],
   "source": [
    "sentiment_count = df[\"airline_sentiment\"].value_counts()\n",
    "plt.pie(sentiment_count, labels=sentiment_count.index,\n",
    "        autopct='%1.1f%%', shadow=True, startangle=140)\n",
    "plt.show()"
   ]
  },
  {
   "cell_type": "code",
   "execution_count": 198,
   "metadata": {
    "colab": {
     "base_uri": "https://localhost:8080/"
    },
    "id": "4lTbeSk4T10Q",
    "outputId": "3283646f-530d-4205-f4fc-cb5cf01de92d"
   },
   "outputs": [
    {
     "name": "stdout",
     "output_type": "stream",
     "text": [
      "Number of + tweets: 2298\n",
      "Number of - tweets: 9087\n"
     ]
    }
   ],
   "source": [
    "print(\"Number of + tweets: {}\".format(df[df[\"airline_sentiment\"]==\"positive\"].count()[0]))\n",
    "print(\"Number of - tweets: {}\".format(df[df[\"airline_sentiment\"]==\"negative\"].count()[0]))"
   ]
  },
  {
   "cell_type": "markdown",
   "metadata": {
    "id": "heqMQGrcVCci"
   },
   "source": [
    "**Data is biased.**"
   ]
  },
  {
   "cell_type": "code",
   "execution_count": 199,
   "metadata": {
    "colab": {
     "base_uri": "https://localhost:8080/",
     "height": 363
    },
    "id": "yorwWLJdVRMM",
    "outputId": "108a55cd-95d5-45c9-a757-0b379b0cffcc"
   },
   "outputs": [
    {
     "data": {
      "text/html": [
       "<div>\n",
       "<style scoped>\n",
       "    .dataframe tbody tr th:only-of-type {\n",
       "        vertical-align: middle;\n",
       "    }\n",
       "\n",
       "    .dataframe tbody tr th {\n",
       "        vertical-align: top;\n",
       "    }\n",
       "\n",
       "    .dataframe thead th {\n",
       "        text-align: right;\n",
       "    }\n",
       "</style>\n",
       "<table border=\"1\" class=\"dataframe\">\n",
       "  <thead>\n",
       "    <tr style=\"text-align: right;\">\n",
       "      <th></th>\n",
       "      <th>airline_sentiment</th>\n",
       "      <th>text</th>\n",
       "    </tr>\n",
       "  </thead>\n",
       "  <tbody>\n",
       "    <tr>\n",
       "      <th>11510</th>\n",
       "      <td>negative</td>\n",
       "      <td>@AmericanAir Has AA Flight 296 from San Antoni...</td>\n",
       "    </tr>\n",
       "    <tr>\n",
       "      <th>1323</th>\n",
       "      <td>negative</td>\n",
       "      <td>@united ... I want my bag off flight 1142, wha...</td>\n",
       "    </tr>\n",
       "    <tr>\n",
       "      <th>4212</th>\n",
       "      <td>negative</td>\n",
       "      <td>@SouthwestAir Pls help. On hold 4 long time no...</td>\n",
       "    </tr>\n",
       "    <tr>\n",
       "      <th>4218</th>\n",
       "      <td>negative</td>\n",
       "      <td>@SouthwestAir are any flights leaving DC today...</td>\n",
       "    </tr>\n",
       "    <tr>\n",
       "      <th>9881</th>\n",
       "      <td>positive</td>\n",
       "      <td>@AmericanAir  TPA - ORD!!! AA1679 Another succ...</td>\n",
       "    </tr>\n",
       "    <tr>\n",
       "      <th>5338</th>\n",
       "      <td>negative</td>\n",
       "      <td>@jetblue any idea what caused the delay on fli...</td>\n",
       "    </tr>\n",
       "    <tr>\n",
       "      <th>4629</th>\n",
       "      <td>negative</td>\n",
       "      <td>@SouthwestAir suggestion- shades on the window...</td>\n",
       "    </tr>\n",
       "    <tr>\n",
       "      <th>10810</th>\n",
       "      <td>negative</td>\n",
       "      <td>@AmericanAir cost me 1 day of #vacation ($350)...</td>\n",
       "    </tr>\n",
       "    <tr>\n",
       "      <th>10689</th>\n",
       "      <td>negative</td>\n",
       "      <td>@AmericanAir FINALLY called me back... BUT HAS...</td>\n",
       "    </tr>\n",
       "    <tr>\n",
       "      <th>2678</th>\n",
       "      <td>positive</td>\n",
       "      <td>@united kind of cool to run into your boss man...</td>\n",
       "    </tr>\n",
       "  </tbody>\n",
       "</table>\n",
       "</div>"
      ],
      "text/plain": [
       "      airline_sentiment                                               text\n",
       "11510          negative  @AmericanAir Has AA Flight 296 from San Antoni...\n",
       "1323           negative  @united ... I want my bag off flight 1142, wha...\n",
       "4212           negative  @SouthwestAir Pls help. On hold 4 long time no...\n",
       "4218           negative  @SouthwestAir are any flights leaving DC today...\n",
       "9881           positive  @AmericanAir  TPA - ORD!!! AA1679 Another succ...\n",
       "5338           negative  @jetblue any idea what caused the delay on fli...\n",
       "4629           negative  @SouthwestAir suggestion- shades on the window...\n",
       "10810          negative  @AmericanAir cost me 1 day of #vacation ($350)...\n",
       "10689          negative  @AmericanAir FINALLY called me back... BUT HAS...\n",
       "2678           positive  @united kind of cool to run into your boss man..."
      ]
     },
     "execution_count": 199,
     "metadata": {},
     "output_type": "execute_result"
    }
   ],
   "source": [
    "df.sample(10)"
   ]
  },
  {
   "cell_type": "code",
   "execution_count": 200,
   "metadata": {
    "colab": {
     "base_uri": "https://localhost:8080/"
    },
    "id": "nQsIbMQQYTTp",
    "outputId": "3d8c003a-eb50-4e9c-b3fa-597e17406709"
   },
   "outputs": [
    {
     "data": {
      "text/plain": [
       "55"
      ]
     },
     "execution_count": 200,
     "metadata": {},
     "output_type": "execute_result"
    }
   ],
   "source": [
    "df['text'].str.contains('RT').sum()"
   ]
  },
  {
   "cell_type": "markdown",
   "metadata": {
    "id": "nDF-c9tPaaLx"
   },
   "source": [
    "There are retweets in the data as well"
   ]
  },
  {
   "cell_type": "markdown",
   "metadata": {
    "id": "YaDcvEvDbD9K"
   },
   "source": [
    "## Pre Processing"
   ]
  },
  {
   "cell_type": "code",
   "execution_count": 201,
   "metadata": {
    "colab": {
     "base_uri": "https://localhost:8080/"
    },
    "id": "E-Si-EwJjbNW",
    "outputId": "c6f299ee-1ad1-42d2-f3a8-e8f90230c3ab"
   },
   "outputs": [
    {
     "name": "stdout",
     "output_type": "stream",
     "text": [
      "Requirement already satisfied: langdetect in c:\\users\\lenovo\\anaconda3\\lib\\site-packages (1.0.9)\n",
      "Requirement already satisfied: six in c:\\users\\lenovo\\anaconda3\\lib\\site-packages (from langdetect) (1.16.0)\n",
      "Note: you may need to restart the kernel to use updated packages.\n"
     ]
    }
   ],
   "source": [
    "pip install langdetect"
   ]
  },
  {
   "cell_type": "code",
   "execution_count": 202,
   "metadata": {
    "id": "Ac6mhYMXi-kr"
   },
   "outputs": [],
   "source": [
    "# from langdetect import detect\n",
    "\n",
    "# print(detect(\"Geeksforgeeks is a computer science portal for geeks\"))"
   ]
  },
  {
   "cell_type": "code",
   "execution_count": 203,
   "metadata": {
    "id": "S52e2SSY3HKy"
   },
   "outputs": [],
   "source": [
    "def detect_and_translate(tweet):\n",
    "  if detect(tweet) == 'en':\n",
    "    return tweet\n",
    "  else:\n",
    "    translated = GoogleTranslator(source='auto', target='en').translate(tweet)\n",
    "    return translated"
   ]
  },
  {
   "cell_type": "code",
   "execution_count": 204,
   "metadata": {
    "id": "ns7v5hzkZiHc"
   },
   "outputs": [],
   "source": [
    "def replace_retweet(tweet, default_replace=\"\"):\n",
    "  tweet = re.sub('RT\\s+', default_replace, tweet)\n",
    "  return tweet"
   ]
  },
  {
   "cell_type": "code",
   "execution_count": 205,
   "metadata": {
    "id": "qUTdRtScanYq"
   },
   "outputs": [],
   "source": [
    "def replace_user(tweet, default_replace=\"twitteruser\"):\n",
    "  tweet = re.sub('\\B@\\w+', default_replace, tweet)\n",
    "  return tweet"
   ]
  },
  {
   "cell_type": "code",
   "execution_count": 206,
   "metadata": {
    "id": "PMpISXAtanWZ"
   },
   "outputs": [],
   "source": [
    "def demojize(tweet):\n",
    "  tweet = emoji.demojize(tweet)\n",
    "  return tweet"
   ]
  },
  {
   "cell_type": "code",
   "execution_count": 207,
   "metadata": {
    "id": "3XTq2SpKanTh"
   },
   "outputs": [],
   "source": [
    "def replace_url(tweet, default_replace=\"\"):\n",
    "  tweet = re.sub('(http|https):\\/\\/\\S+', default_replace, tweet)\n",
    "  return tweet"
   ]
  },
  {
   "cell_type": "code",
   "execution_count": 208,
   "metadata": {
    "id": "rg6OtwMNanOq"
   },
   "outputs": [],
   "source": [
    "def replace_hashtag(tweet, default_replace=\"\"):\n",
    "  tweet = re.sub('#+', default_replace, tweet)\n",
    "  return tweet"
   ]
  },
  {
   "cell_type": "code",
   "execution_count": 209,
   "metadata": {
    "id": "Wc_Rlsc5anMG"
   },
   "outputs": [],
   "source": [
    "def to_lowercase(tweet):\n",
    "  tweet = tweet.lower()\n",
    "  return tweet"
   ]
  },
  {
   "cell_type": "code",
   "execution_count": 210,
   "metadata": {
    "id": "hs-4gKzbanJR"
   },
   "outputs": [],
   "source": [
    "def word_repetition(tweet):\n",
    "  tweet = re.sub(r'(.)\\1+', r'\\1\\1', tweet)\n",
    "  return tweet"
   ]
  },
  {
   "cell_type": "code",
   "execution_count": 211,
   "metadata": {
    "id": "tq1iK4OoanGq"
   },
   "outputs": [],
   "source": [
    "def punct_repetition(tweet, default_replace=\"\"):\n",
    "  tweet = re.sub(r'[\\?\\.\\!]+(?=[\\?\\.\\!])', default_replace, tweet)\n",
    "  return tweet"
   ]
  },
  {
   "cell_type": "code",
   "execution_count": 212,
   "metadata": {
    "id": "8had5iBLanD5"
   },
   "outputs": [],
   "source": [
    "def fix_contractions(tweet):\n",
    "  tweet = contractions.fix(tweet)\n",
    "  return tweet"
   ]
  },
  {
   "cell_type": "code",
   "execution_count": 213,
   "metadata": {
    "colab": {
     "base_uri": "https://localhost:8080/"
    },
    "id": "oJNCUqRNbzYG",
    "outputId": "3c666f9e-554b-455d-b79d-acf43192f312"
   },
   "outputs": [
    {
     "name": "stdout",
     "output_type": "stream",
     "text": [
      "{'in', 'themselves', 'been', 'did', 'were', 'how', 'again', 's', \"isn't\", \"it's\", 'yourselves', 'you', 'or', \"hadn't\", 'shouldn', 'and', 'why', 'same', 'being', 'when', 'was', 'over', 'more', 'just', \"shan't\", 'ma', \"you'd\", 'm', \"you'll\", \"wasn't\", 'hers', 'o', 'd', 'down', 'these', 'of', 'which', 'is', \"didn't\", 'they', 'further', 'an', 'herself', 'to', 'll', 'below', 'mightn', 'above', 'wouldn', 'for', 'he', 'mustn', 'about', 'won', 've', 'wasn', \"mightn't\", \"wouldn't\", 'me', 'while', 'didn', 'had', 'once', 'doesn', 'then', 'all', 'those', 'shan', 'itself', 'nor', 'here', \"hasn't\", 'there', 'will', 'where', 'can', 'but', 'most', 'we', 'own', 't', 'because', 'yourself', 'yours', 'than', 'very', 'only', 'isn', 'both', 'hadn', 'our', 'a', 'that', 'them', 'no', 'having', 'don', 'should', 'y', \"doesn't\", 'during', 'she', 'other', 'needn', \"mustn't\", 'up', \"won't\", 'by', 'weren', 'aren', 'with', 'haven', 'has', \"you've\", 'doing', \"needn't\", 'the', 'so', \"shouldn't\", 'any', 'ours', 'some', 'against', 'before', \"she's\", 'am', 'between', 'on', \"should've\", 'such', 'after', 'myself', 'into', 'himself', 'its', 'her', 'have', \"haven't\", 'from', 'as', 'each', \"couldn't\", 'it', 'do', 'not', 'out', 'under', 'be', 'ourselves', 'who', 'through', 'this', 'hasn', 'whom', 'now', 'if', \"aren't\", 'at', 'does', 'couldn', 'your', \"you're\", 'off', 'theirs', 're', 'their', 'few', 'his', \"weren't\", 'i', \"that'll\", 'are', \"don't\", 'my', 'ain', 'him', 'too', 'what', 'until'}\n"
     ]
    }
   ],
   "source": [
    "stop_words = set(stopwords.words('english'))\n",
    "print(stop_words)"
   ]
  },
  {
   "cell_type": "code",
   "execution_count": 214,
   "metadata": {
    "colab": {
     "base_uri": "https://localhost:8080/"
    },
    "id": "G4OXKjfKiSd0",
    "outputId": "88308c4c-d9b5-4bc5-d234-f1ac9a064583"
   },
   "outputs": [
    {
     "name": "stdout",
     "output_type": "stream",
     "text": [
      "179\n"
     ]
    }
   ],
   "source": [
    "print(len(stop_words))"
   ]
  },
  {
   "cell_type": "code",
   "execution_count": 215,
   "metadata": {
    "colab": {
     "base_uri": "https://localhost:8080/"
    },
    "id": "GZBkXKbBbzVw",
    "outputId": "577be503-9a5c-4ad1-974b-3e705defcff0"
   },
   "outputs": [
    {
     "name": "stdout",
     "output_type": "stream",
     "text": [
      "{'in', 'themselves', 'been', 'did', 'were', 'how', 'again', 's', \"isn't\", \"it's\", 'yourselves', 'you', 'or', \"hadn't\", 'shouldn', 'and', 'why', 'same', 'being', 'when', 'was', 'over', 'more', 'just', \"shan't\", 'ma', \"you'd\", 'm', \"you'll\", \"wasn't\", 'hers', 'o', 'd', 'down', 'these', 'of', 'which', 'is', \"didn't\", 'they', 'further', 'an', 'herself', 'to', 'll', 'below', 'mightn', 'above', 'wouldn', 'for', 'he', 'mustn', 'about', 'won', 've', 'wasn', \"mightn't\", \"wouldn't\", 'me', 'while', 'didn', 'had', 'once', 'doesn', 'then', 'all', 'those', 'shan', 'itself', 'nor', 'here', \"hasn't\", 'there', 'will', 'where', 'can', 'but', 'most', 'we', 'own', 't', 'because', 'yourself', 'yours', 'than', 'very', 'only', 'isn', 'both', 'hadn', 'our', 'a', 'that', 'them', 'no', 'having', 'don', 'should', 'y', \"doesn't\", 'during', 'she', 'other', 'needn', \"mustn't\", 'up', \"won't\", 'by', 'weren', 'aren', 'with', 'haven', 'has', \"you've\", 'doing', \"needn't\", 'the', 'so', \"shouldn't\", 'any', 'ours', 'some', 'against', 'before', \"she's\", 'am', 'between', 'on', \"should've\", 'such', 'after', 'myself', 'into', 'himself', 'its', 'her', 'have', \"haven't\", 'from', 'as', 'each', \"couldn't\", 'it', 'do', 'out', 'under', 'be', 'ourselves', 'who', 'through', 'this', 'hasn', 'whom', 'now', 'if', \"aren't\", 'at', 'does', 'couldn', 'your', \"you're\", 'off', 'theirs', 're', 'their', 'few', 'his', \"weren't\", 'i', \"that'll\", 'are', \"don't\", 'my', 'ain', 'him', 'too', 'what', 'until'}\n"
     ]
    }
   ],
   "source": [
    "stop_words.discard('not')\n",
    "print(stop_words)"
   ]
  },
  {
   "cell_type": "code",
   "execution_count": 216,
   "metadata": {
    "colab": {
     "base_uri": "https://localhost:8080/"
    },
    "id": "_TFhuVHEiZwr",
    "outputId": "ffcd6969-0435-4571-eca3-eb2279f3df72"
   },
   "outputs": [
    {
     "name": "stdout",
     "output_type": "stream",
     "text": [
      "178\n"
     ]
    }
   ],
   "source": [
    "print(len(stop_words))"
   ]
  },
  {
   "cell_type": "code",
   "execution_count": 217,
   "metadata": {
    "id": "q4aUscgcbzTd"
   },
   "outputs": [],
   "source": [
    "def custom_tokenize(tweet,\n",
    "                    keep_punct = False,\n",
    "                    keep_alnum = False,\n",
    "                    keep_stop = False):\n",
    "  \n",
    "  token_list = word_tokenize(tweet)\n",
    "\n",
    "  if not keep_punct:\n",
    "    token_list = [token for token in token_list\n",
    "                  if token not in string.punctuation]\n",
    "\n",
    "  if not keep_alnum:\n",
    "    token_list = [token for token in token_list if token.isalpha()]\n",
    "  \n",
    "  if not keep_stop:\n",
    "    stop_words = set(stopwords.words('english'))\n",
    "    stop_words.discard('not')\n",
    "    token_list = [token for token in token_list if not token in stop_words]\n",
    "\n",
    "  return token_list"
   ]
  },
  {
   "cell_type": "code",
   "execution_count": 218,
   "metadata": {
    "id": "VSizizdWeJTG"
   },
   "outputs": [],
   "source": [
    "def stem_tokens(tokens, stemmer):\n",
    "  token_list = []\n",
    "  for token in tokens:\n",
    "    token_list.append(stemmer.stem(token))\n",
    "  return token_list"
   ]
  },
  {
   "cell_type": "markdown",
   "metadata": {
    "id": "Y3uRhE96d5Oa"
   },
   "source": [
    "\n",
    "\n",
    "1.   Don't use lemmatization as the increased performance to increased cost ratio is quite low\n",
    "2.   Lemmatization has no significant impact on accuracy for text classification with neural architectures\n",
    "\n"
   ]
  },
  {
   "cell_type": "code",
   "execution_count": 219,
   "metadata": {
    "id": "3fKQKQT5bzMG"
   },
   "outputs": [],
   "source": [
    "def process_tweet(tweet, verbose=False):\n",
    "  if verbose: print(\"Initial tweet: {}\".format(tweet))\n",
    "\n",
    "  ## Twitter Features\n",
    "  tweet = replace_retweet(tweet) # replace retweet\n",
    "  tweet = replace_user(tweet, \"\") # replace user tag to null\n",
    "  tweet = replace_url(tweet) # replace url\n",
    "  tweet = replace_hashtag(tweet) # replace hashtag\n",
    "  tweet = detect_and_translate(tweet) # change language to english\n",
    "\n",
    "  ## Word Features\n",
    "  tweet = to_lowercase(tweet) # lower case\n",
    "  tweet = fix_contractions(tweet) # replace contractions\n",
    "  tweet = punct_repetition(tweet) # replace punctuation repetition\n",
    "  tweet = word_repetition(tweet) # replace word repetition\n",
    "  tweet = demojize(tweet) # replace emojis\n",
    "\n",
    "  ## Tokenization & Stemming\n",
    "  tokens = custom_tokenize(tweet) # tokenize\n",
    "  stemmer = SnowballStemmer(\"english\") # define stemmer\n",
    "  stem = stem_tokens(tokens, stemmer) # stem tokens\n",
    "\n",
    "  return stem"
   ]
  },
  {
   "cell_type": "code",
   "execution_count": 220,
   "metadata": {
    "colab": {
     "base_uri": "https://localhost:8080/"
    },
    "id": "c4h685mmxlvB",
    "outputId": "e69a7d4b-666a-4d7f-8502-7c57100bbd1a"
   },
   "outputs": [
    {
     "data": {
      "text/plain": [
       "0        @VirginAmerica plus you've added commercials t...\n",
       "1        @VirginAmerica it's really aggressive to blast...\n",
       "2        @VirginAmerica and it's a really big bad thing...\n",
       "3        @VirginAmerica seriously would pay $30 a fligh...\n",
       "4        @VirginAmerica yes, nearly every time I fly VX...\n",
       "                               ...                        \n",
       "11536    @AmericanAir my flight was Cancelled Flightled...\n",
       "11537           @AmericanAir right on cue with the delays👌\n",
       "11538    @AmericanAir thank you we got on a different f...\n",
       "11539    @AmericanAir leaving over 20 minutes Late Flig...\n",
       "11540    @AmericanAir you have my money, you change my ...\n",
       "Name: text, Length: 11385, dtype: object"
      ]
     },
     "execution_count": 220,
     "metadata": {},
     "output_type": "execute_result"
    }
   ],
   "source": [
    "df['text']"
   ]
  },
  {
   "cell_type": "markdown",
   "metadata": {
    "id": "qxBeF4b3h9ss"
   },
   "source": [
    "### Text Representation"
   ]
  },
  {
   "cell_type": "code",
   "execution_count": 221,
   "metadata": {
    "id": "PFU13uFRbzJe"
   },
   "outputs": [],
   "source": [
    "df[\"tokens\"] = df['text'].apply(process_tweet)\n",
    "df[\"sentiment\"] = df[\"airline_sentiment\"].apply(lambda i: 1\n",
    "                                              if i == \"positive\" else 0)"
   ]
  },
  {
   "cell_type": "code",
   "execution_count": 222,
   "metadata": {
    "colab": {
     "base_uri": "https://localhost:8080/",
     "height": 363
    },
    "id": "yTKJqF7tY6gy",
    "outputId": "9dfaf667-7d0d-4da9-e0b7-78b4112d85b2"
   },
   "outputs": [
    {
     "data": {
      "text/html": [
       "<div>\n",
       "<style scoped>\n",
       "    .dataframe tbody tr th:only-of-type {\n",
       "        vertical-align: middle;\n",
       "    }\n",
       "\n",
       "    .dataframe tbody tr th {\n",
       "        vertical-align: top;\n",
       "    }\n",
       "\n",
       "    .dataframe thead th {\n",
       "        text-align: right;\n",
       "    }\n",
       "</style>\n",
       "<table border=\"1\" class=\"dataframe\">\n",
       "  <thead>\n",
       "    <tr style=\"text-align: right;\">\n",
       "      <th></th>\n",
       "      <th>airline_sentiment</th>\n",
       "      <th>text</th>\n",
       "      <th>tokens</th>\n",
       "      <th>sentiment</th>\n",
       "    </tr>\n",
       "  </thead>\n",
       "  <tbody>\n",
       "    <tr>\n",
       "      <th>0</th>\n",
       "      <td>positive</td>\n",
       "      <td>@VirginAmerica plus you've added commercials t...</td>\n",
       "      <td>[plus, ad, commerci, experi, tacki]</td>\n",
       "      <td>1</td>\n",
       "    </tr>\n",
       "    <tr>\n",
       "      <th>1</th>\n",
       "      <td>negative</td>\n",
       "      <td>@VirginAmerica it's really aggressive to blast...</td>\n",
       "      <td>[realli, aggress, blast, obnoxi, entertain, gu...</td>\n",
       "      <td>0</td>\n",
       "    </tr>\n",
       "    <tr>\n",
       "      <th>2</th>\n",
       "      <td>negative</td>\n",
       "      <td>@VirginAmerica and it's a really big bad thing...</td>\n",
       "      <td>[realli, big, bad, thing]</td>\n",
       "      <td>0</td>\n",
       "    </tr>\n",
       "    <tr>\n",
       "      <th>3</th>\n",
       "      <td>negative</td>\n",
       "      <td>@VirginAmerica seriously would pay $30 a fligh...</td>\n",
       "      <td>[serious, would, pay, flight, seat, not, play,...</td>\n",
       "      <td>0</td>\n",
       "    </tr>\n",
       "    <tr>\n",
       "      <th>4</th>\n",
       "      <td>positive</td>\n",
       "      <td>@VirginAmerica yes, nearly every time I fly VX...</td>\n",
       "      <td>[yes, near, everi, time, fli, vx, ear, worm, n...</td>\n",
       "      <td>1</td>\n",
       "    </tr>\n",
       "    <tr>\n",
       "      <th>5</th>\n",
       "      <td>positive</td>\n",
       "      <td>@virginamerica Well, I didn't…but NOW I DO! :-D</td>\n",
       "      <td>[well]</td>\n",
       "      <td>1</td>\n",
       "    </tr>\n",
       "    <tr>\n",
       "      <th>6</th>\n",
       "      <td>positive</td>\n",
       "      <td>@VirginAmerica it was amazing, and arrived an ...</td>\n",
       "      <td>[amaz, arriv, hour, earli, good]</td>\n",
       "      <td>1</td>\n",
       "    </tr>\n",
       "    <tr>\n",
       "      <th>7</th>\n",
       "      <td>positive</td>\n",
       "      <td>@VirginAmerica I &amp;lt;3 pretty graphics. so muc...</td>\n",
       "      <td>[lt, pretti, graphic, much, better, minim, ico...</td>\n",
       "      <td>1</td>\n",
       "    </tr>\n",
       "    <tr>\n",
       "      <th>8</th>\n",
       "      <td>positive</td>\n",
       "      <td>@VirginAmerica This is such a great deal! Alre...</td>\n",
       "      <td>[great, deal, alreadi, think, trip, amp, not, ...</td>\n",
       "      <td>1</td>\n",
       "    </tr>\n",
       "    <tr>\n",
       "      <th>9</th>\n",
       "      <td>positive</td>\n",
       "      <td>@VirginAmerica @virginmedia I'm flying your #f...</td>\n",
       "      <td>[fli, fabul, seduct, sky, take, stress, away, ...</td>\n",
       "      <td>1</td>\n",
       "    </tr>\n",
       "  </tbody>\n",
       "</table>\n",
       "</div>"
      ],
      "text/plain": [
       "  airline_sentiment                                               text  \\\n",
       "0          positive  @VirginAmerica plus you've added commercials t...   \n",
       "1          negative  @VirginAmerica it's really aggressive to blast...   \n",
       "2          negative  @VirginAmerica and it's a really big bad thing...   \n",
       "3          negative  @VirginAmerica seriously would pay $30 a fligh...   \n",
       "4          positive  @VirginAmerica yes, nearly every time I fly VX...   \n",
       "5          positive    @virginamerica Well, I didn't…but NOW I DO! :-D   \n",
       "6          positive  @VirginAmerica it was amazing, and arrived an ...   \n",
       "7          positive  @VirginAmerica I &lt;3 pretty graphics. so muc...   \n",
       "8          positive  @VirginAmerica This is such a great deal! Alre...   \n",
       "9          positive  @VirginAmerica @virginmedia I'm flying your #f...   \n",
       "\n",
       "                                              tokens  sentiment  \n",
       "0                [plus, ad, commerci, experi, tacki]          1  \n",
       "1  [realli, aggress, blast, obnoxi, entertain, gu...          0  \n",
       "2                          [realli, big, bad, thing]          0  \n",
       "3  [serious, would, pay, flight, seat, not, play,...          0  \n",
       "4  [yes, near, everi, time, fli, vx, ear, worm, n...          1  \n",
       "5                                             [well]          1  \n",
       "6                   [amaz, arriv, hour, earli, good]          1  \n",
       "7  [lt, pretti, graphic, much, better, minim, ico...          1  \n",
       "8  [great, deal, alreadi, think, trip, amp, not, ...          1  \n",
       "9  [fli, fabul, seduct, sky, take, stress, away, ...          1  "
      ]
     },
     "execution_count": 222,
     "metadata": {},
     "output_type": "execute_result"
    }
   ],
   "source": [
    "df.head(10)"
   ]
  },
  {
   "cell_type": "markdown",
   "metadata": {
    "id": "MTViw9jwl7LW"
   },
   "source": [
    "Removing biaseness in the data"
   ]
  },
  {
   "cell_type": "code",
   "execution_count": 223,
   "metadata": {
    "id": "jMljVCJibzG1"
   },
   "outputs": [],
   "source": [
    "X = df[\"tokens\"]\n",
    "y = df[\"sentiment\"]\n",
    "\n",
    "# X = X.to_list()\n",
    "# y = y.to_list()\n",
    "\n",
    "X_train, X_test, y_train, y_test = train_test_split(X, y, stratify = y, random_state=0)"
   ]
  },
  {
   "cell_type": "code",
   "execution_count": 224,
   "metadata": {
    "id": "Oh3IRIvYjKds"
   },
   "outputs": [],
   "source": [
    "def fit_cv(tweet_corpus):\n",
    "  cv_vect = CountVectorizer(tokenizer=lambda x: x,\n",
    "                            preprocessor=lambda x: x)\n",
    "  cv_vect.fit(tweet_corpus)\n",
    "  return cv_vect"
   ]
  },
  {
   "cell_type": "code",
   "execution_count": 225,
   "metadata": {
    "id": "aMC-eAONjKUS"
   },
   "outputs": [],
   "source": [
    "def fit_tfidf(tweet_corpus):\n",
    "  tf_vect = TfidfVectorizer(preprocessor=lambda x: x,\n",
    "                            tokenizer=lambda x: x)\n",
    "  tf_vect.fit(tweet_corpus)\n",
    "  return tf_vect"
   ]
  },
  {
   "cell_type": "code",
   "execution_count": 226,
   "metadata": {
    "id": "pyxLO_YPqj4H"
   },
   "outputs": [],
   "source": [
    "def oversample_smote(X, y):\n",
    "  oversample = SMOTE()\n",
    "  X, y = oversample.fit_resample(X, y)\n",
    "  return X, y"
   ]
  },
  {
   "cell_type": "markdown",
   "metadata": {
    "id": "rUhVyVW1qXRO"
   },
   "source": [
    "Count vectorizer representation"
   ]
  },
  {
   "cell_type": "code",
   "execution_count": 227,
   "metadata": {
    "id": "m4uKa3jskr1c"
   },
   "outputs": [],
   "source": [
    "# cv = fit_cv(X_train)\n",
    "# X_train_cv = cv.transform(X_train)\n",
    "# X_test_cv = cv.transform(X_test)"
   ]
  },
  {
   "cell_type": "code",
   "execution_count": 228,
   "metadata": {
    "id": "8qtLfPA9q2vu"
   },
   "outputs": [],
   "source": [
    "model_cv = {}\n",
    "def model_training_cv(X_train, y_train, model):\n",
    "  cv = fit_cv(X_train)\n",
    "  X_train_cv = cv.transform(X_train)\n",
    "  X_test_cv = cv.transform(X_test)\n",
    "  X_train_cv, y_train_sm = oversample_smote(X_train_cv , y_train)\n",
    "  model = model\n",
    "  start_time = time.time()\n",
    "  model.fit(X_train_cv, y_train_sm)\n",
    "  end_time = time.time()\n",
    "  time_taken = end_time - start_time\n",
    "  y_pred_lr_cv = model.predict(X_test_cv)\n",
    "  acc = accuracy_score(y_test, y_pred_lr_cv)\n",
    "  return time_taken , acc"
   ]
  },
  {
   "cell_type": "code",
   "execution_count": 229,
   "metadata": {
    "id": "LYczmLg7rnJw"
   },
   "outputs": [],
   "source": [
    "model_tf = {}\n",
    "def model_training_tf(X_train, y_train, model):\n",
    "  tf = fit_tfidf(X_train)\n",
    "  X_train_tf = tf.transform(X_train)\n",
    "  X_test_tf = tf.transform(X_test)\n",
    "  X_train_tf, y_train_sm = oversample_smote(X_train_tf , y_train)\n",
    "  model = model\n",
    "  start_time = time.time()\n",
    "  model.fit(X_train_tf, y_train_sm)\n",
    "  end_time = time.time()\n",
    "  time_taken = end_time - start_time\n",
    "  y_pred_cv = model.predict(X_test_tf)\n",
    "  acc = accuracy_score(y_test, y_pred_cv)\n",
    "  return time_taken , acc"
   ]
  },
  {
   "cell_type": "code",
   "execution_count": 230,
   "metadata": {
    "colab": {
     "base_uri": "https://localhost:8080/"
    },
    "id": "5It3nCA-uXxE",
    "outputId": "927058f8-ce04-4bcb-e37c-5748cd628c7e"
   },
   "outputs": [],
   "source": [
    "time_taken , acc = model_training_cv(X_train, y_train, model = LogisticRegression())\n",
    "model_cv['LogisticRegression'] = [time_taken , acc]"
   ]
  },
  {
   "cell_type": "code",
   "execution_count": 231,
   "metadata": {
    "colab": {
     "base_uri": "https://localhost:8080/"
    },
    "id": "Ss936ESLuXkP",
    "outputId": "2c22284e-cc7f-4b55-8091-5d13fd9e136b"
   },
   "outputs": [],
   "source": [
    "time_taken , acc = model_training_cv(X_train, y_train, model = XGBClassifier())\n",
    "model_cv['XGBClassifier'] = [time_taken , acc]"
   ]
  },
  {
   "cell_type": "code",
   "execution_count": 232,
   "metadata": {
    "colab": {
     "base_uri": "https://localhost:8080/"
    },
    "id": "0MWJObF2uXhU",
    "outputId": "46de6413-6ad7-4724-c076-e6f9b02898af"
   },
   "outputs": [],
   "source": [
    "# time_taken , acc = model_training_cv(X_train, y_train, model = LGBMClassifier())\n",
    "# model_cv['LGBMClassifier'] = [time_taken , acc]"
   ]
  },
  {
   "cell_type": "code",
   "execution_count": 233,
   "metadata": {
    "id": "kCAmlG3UuRlo"
   },
   "outputs": [
    {
     "data": {
      "text/plain": [
       "{'LogisticRegression': [0.149078369140625, 0.8911134527572884],\n",
       " 'XGBClassifier': [1.1612472534179688, 0.9020021074815595]}"
      ]
     },
     "execution_count": 233,
     "metadata": {},
     "output_type": "execute_result"
    }
   ],
   "source": [
    "model_cv"
   ]
  },
  {
   "cell_type": "code",
   "execution_count": null,
   "metadata": {
    "id": "rw6WeBL5v3oq"
   },
   "outputs": [],
   "source": []
  },
  {
   "cell_type": "code",
   "execution_count": 234,
   "metadata": {
    "id": "3uM1a3Y0vou8"
   },
   "outputs": [],
   "source": [
    "time_taken , acc = model_training_tf(X_train, y_train, model = LogisticRegression())\n",
    "model_tf['LogisticRegression'] = [time_taken , acc]"
   ]
  },
  {
   "cell_type": "code",
   "execution_count": 235,
   "metadata": {
    "id": "GwQXBTDZvosX"
   },
   "outputs": [],
   "source": [
    "time_taken , acc = model_training_tf(X_train, y_train, model = XGBClassifier())\n",
    "model_tf['XGBClassifier'] = [time_taken , acc]"
   ]
  },
  {
   "cell_type": "code",
   "execution_count": 236,
   "metadata": {
    "id": "UABlv17SuUAv"
   },
   "outputs": [
    {
     "data": {
      "text/plain": [
       "{'LogisticRegression': [0.14105486869812012, 0.9107832806462943],\n",
       " 'XGBClassifier': [1.553647518157959, 0.9058658236740429]}"
      ]
     },
     "execution_count": 236,
     "metadata": {},
     "output_type": "execute_result"
    }
   ],
   "source": [
    "model_tf"
   ]
  },
  {
   "cell_type": "code",
   "execution_count": 237,
   "metadata": {
    "id": "6N35PBjMvqc1"
   },
   "outputs": [],
   "source": [
    "tf = fit_tfidf(X_train)\n",
    "X_train_tf = tf.transform(X_train)\n",
    "X_test_tf = tf.transform(X_test)\n",
    "\n",
    "X_train_tf = X_train_tf.astype('float32')\n",
    "X_test_tf = X_test_tf.astype('float32')   \n",
    "y_train = y_train.astype('float32')\n",
    "y_test = y_test.astype('float32')\n",
    "                       \n",
    "X_train_tf, y_train_sm = oversample_smote(X_train_tf , y_train)\n",
    "model = LGBMClassifier()\n",
    "start_time = time.time()\n",
    "model.fit(X_train_tf, y_train_sm)\n",
    "end_time = time.time()\n",
    "time_taken = end_time - start_time\n",
    "y_pred_cv = model.predict(X_test_tf)\n",
    "acc = accuracy_score(y_test, y_pred_cv)\n",
    "model_tf['LGBMClassifier'] = [time_taken , acc]"
   ]
  },
  {
   "cell_type": "code",
   "execution_count": 238,
   "metadata": {
    "id": "DA03Dz6gvqae"
   },
   "outputs": [
    {
     "data": {
      "text/plain": [
       "{'LogisticRegression': [0.14105486869812012, 0.9107832806462943],\n",
       " 'XGBClassifier': [1.553647518157959, 0.9058658236740429],\n",
       " 'LGBMClassifier': [2.1969592571258545, 0.9051633298208641]}"
      ]
     },
     "execution_count": 238,
     "metadata": {},
     "output_type": "execute_result"
    }
   ],
   "source": [
    "model_tf"
   ]
  },
  {
   "cell_type": "code",
   "execution_count": 239,
   "metadata": {
    "id": "5ektZI3MlGSs"
   },
   "outputs": [
    {
     "name": "stdout",
     "output_type": "stream",
     "text": [
      "tuned hpyerparameters :(best parameters)  {'C': 46.41588833612773, 'max_iter': 150, 'penalty': 'l2', 'tol': 0.01}\n",
      "accuracy : 0.9589141599413059\n"
     ]
    }
   ],
   "source": [
    "grid={\"C\":np.logspace(-3,3,10), \n",
    "      \"penalty\":[\"l1\",\"l2\"],    # l1 lasso l2 ridge\n",
    "      'tol':[0.01,0.001,0.0001],\n",
    "      'max_iter':[100,150,200]\n",
    "     }\n",
    "\n",
    "logreg=LogisticRegression()\n",
    "logreg_cv=GridSearchCV(logreg,grid,cv=10)\n",
    "logreg_cv.fit(X_train_tf, y_train_sm)\n",
    "\n",
    "print(\"tuned hpyerparameters :(best parameters) \",logreg_cv.best_params_)\n",
    "print(\"accuracy :\",logreg_cv.best_score_)"
   ]
  },
  {
   "cell_type": "code",
   "execution_count": 240,
   "metadata": {},
   "outputs": [
    {
     "name": "stdout",
     "output_type": "stream",
     "text": [
      "14.589818716049194 0.9023533544081489\n"
     ]
    }
   ],
   "source": [
    "model = RandomForestClassifier()\n",
    "start = time.time()\n",
    "model.fit(X_train_tf, y_train_sm)\n",
    "end = time.time()\n",
    "y_pred_cv = model.predict(X_test_tf)\n",
    "acc = accuracy_score(y_test, y_pred_cv)\n",
    "time_taken = end - start\n",
    "print(time_taken , acc)\n"
   ]
  },
  {
   "cell_type": "code",
   "execution_count": 241,
   "metadata": {},
   "outputs": [
    {
     "name": "stdout",
     "output_type": "stream",
     "text": [
      "5.603048801422119 0.9121882683526519\n"
     ]
    }
   ],
   "source": [
    "model = SVC()\n",
    "start = time.time()\n",
    "model.fit(X_train_tf, y_train_sm)\n",
    "end = time.time()\n",
    "y_pred_cv = model.predict(X_test_tf)\n",
    "acc = accuracy_score(y_test, y_pred_cv)\n",
    "time_taken = end - start\n",
    "print(time_taken , acc)"
   ]
  },
  {
   "cell_type": "code",
   "execution_count": 242,
   "metadata": {},
   "outputs": [
    {
     "name": "stdout",
     "output_type": "stream",
     "text": [
      "Fitting 5 folds for each of 25 candidates, totalling 125 fits\n",
      "[CV 1/5] END ........C=0.1, gamma=1, kernel=rbf;, score=0.664 total time=   5.4s\n",
      "[CV 2/5] END ........C=0.1, gamma=1, kernel=rbf;, score=0.903 total time=   6.2s\n",
      "[CV 3/5] END ........C=0.1, gamma=1, kernel=rbf;, score=0.961 total time=   6.5s\n",
      "[CV 4/5] END ........C=0.1, gamma=1, kernel=rbf;, score=0.970 total time=   6.6s\n",
      "[CV 5/5] END ........C=0.1, gamma=1, kernel=rbf;, score=0.970 total time=   6.5s\n",
      "[CV 1/5] END ......C=0.1, gamma=0.1, kernel=rbf;, score=0.731 total time=   8.7s\n",
      "[CV 2/5] END ......C=0.1, gamma=0.1, kernel=rbf;, score=0.837 total time=   9.0s\n",
      "[CV 3/5] END ......C=0.1, gamma=0.1, kernel=rbf;, score=0.864 total time=   9.0s\n",
      "[CV 4/5] END ......C=0.1, gamma=0.1, kernel=rbf;, score=0.866 total time=   9.0s\n",
      "[CV 5/5] END ......C=0.1, gamma=0.1, kernel=rbf;, score=0.866 total time=   9.1s\n",
      "[CV 1/5] END .....C=0.1, gamma=0.01, kernel=rbf;, score=0.546 total time=  11.5s\n",
      "[CV 2/5] END .....C=0.1, gamma=0.01, kernel=rbf;, score=0.575 total time=  11.4s\n",
      "[CV 3/5] END .....C=0.1, gamma=0.01, kernel=rbf;, score=0.596 total time=  11.5s\n",
      "[CV 4/5] END .....C=0.1, gamma=0.01, kernel=rbf;, score=0.591 total time=  11.5s\n",
      "[CV 5/5] END .....C=0.1, gamma=0.01, kernel=rbf;, score=0.591 total time=  11.4s\n",
      "[CV 1/5] END ....C=0.1, gamma=0.001, kernel=rbf;, score=0.557 total time=  11.8s\n",
      "[CV 2/5] END ....C=0.1, gamma=0.001, kernel=rbf;, score=0.589 total time=  11.7s\n",
      "[CV 3/5] END ....C=0.1, gamma=0.001, kernel=rbf;, score=0.612 total time=  11.6s\n",
      "[CV 4/5] END ....C=0.1, gamma=0.001, kernel=rbf;, score=0.609 total time=  11.6s\n",
      "[CV 5/5] END ....C=0.1, gamma=0.001, kernel=rbf;, score=0.608 total time=  11.6s\n",
      "[CV 1/5] END ...C=0.1, gamma=0.0001, kernel=rbf;, score=0.557 total time=  11.8s\n",
      "[CV 2/5] END ...C=0.1, gamma=0.0001, kernel=rbf;, score=0.589 total time=  11.7s\n",
      "[CV 3/5] END ...C=0.1, gamma=0.0001, kernel=rbf;, score=0.612 total time=  11.6s\n",
      "[CV 4/5] END ...C=0.1, gamma=0.0001, kernel=rbf;, score=0.609 total time=  11.6s\n",
      "[CV 5/5] END ...C=0.1, gamma=0.0001, kernel=rbf;, score=0.608 total time=  11.6s\n",
      "[CV 1/5] END ..........C=1, gamma=1, kernel=rbf;, score=0.837 total time=   3.6s\n",
      "[CV 2/5] END ..........C=1, gamma=1, kernel=rbf;, score=0.965 total time=   4.5s\n",
      "[CV 3/5] END ..........C=1, gamma=1, kernel=rbf;, score=0.985 total time=   4.7s\n",
      "[CV 4/5] END ..........C=1, gamma=1, kernel=rbf;, score=0.984 total time=   4.7s\n",
      "[CV 5/5] END ..........C=1, gamma=1, kernel=rbf;, score=0.986 total time=   4.7s\n",
      "[CV 1/5] END ........C=1, gamma=0.1, kernel=rbf;, score=0.838 total time=   4.5s\n",
      "[CV 2/5] END ........C=1, gamma=0.1, kernel=rbf;, score=0.941 total time=   4.9s\n",
      "[CV 3/5] END ........C=1, gamma=0.1, kernel=rbf;, score=0.964 total time=   5.0s\n",
      "[CV 4/5] END ........C=1, gamma=0.1, kernel=rbf;, score=0.974 total time=   5.1s\n",
      "[CV 5/5] END ........C=1, gamma=0.1, kernel=rbf;, score=0.967 total time=   5.0s\n",
      "[CV 1/5] END .......C=1, gamma=0.01, kernel=rbf;, score=0.753 total time=   8.4s\n",
      "[CV 2/5] END .......C=1, gamma=0.01, kernel=rbf;, score=0.832 total time=   8.7s\n",
      "[CV 3/5] END .......C=1, gamma=0.01, kernel=rbf;, score=0.851 total time=   8.7s\n",
      "[CV 4/5] END .......C=1, gamma=0.01, kernel=rbf;, score=0.856 total time=  12.6s\n",
      "[CV 5/5] END .......C=1, gamma=0.01, kernel=rbf;, score=0.853 total time=  13.3s\n",
      "[CV 1/5] END ......C=1, gamma=0.001, kernel=rbf;, score=0.546 total time=  16.2s\n",
      "[CV 2/5] END ......C=1, gamma=0.001, kernel=rbf;, score=0.575 total time=  16.0s\n",
      "[CV 3/5] END ......C=1, gamma=0.001, kernel=rbf;, score=0.595 total time=  16.5s\n",
      "[CV 4/5] END ......C=1, gamma=0.001, kernel=rbf;, score=0.591 total time=  16.7s\n",
      "[CV 5/5] END ......C=1, gamma=0.001, kernel=rbf;, score=0.590 total time=  16.3s\n",
      "[CV 1/5] END .....C=1, gamma=0.0001, kernel=rbf;, score=0.557 total time=  16.6s\n",
      "[CV 2/5] END .....C=1, gamma=0.0001, kernel=rbf;, score=0.589 total time=  16.4s\n",
      "[CV 3/5] END .....C=1, gamma=0.0001, kernel=rbf;, score=0.612 total time=  16.8s\n",
      "[CV 4/5] END .....C=1, gamma=0.0001, kernel=rbf;, score=0.609 total time=  16.6s\n",
      "[CV 5/5] END .....C=1, gamma=0.0001, kernel=rbf;, score=0.608 total time=  15.7s\n",
      "[CV 1/5] END .........C=10, gamma=1, kernel=rbf;, score=0.919 total time=   7.6s\n",
      "[CV 2/5] END .........C=10, gamma=1, kernel=rbf;, score=0.976 total time=   6.1s\n",
      "[CV 3/5] END .........C=10, gamma=1, kernel=rbf;, score=0.983 total time=   8.6s\n",
      "[CV 4/5] END .........C=10, gamma=1, kernel=rbf;, score=0.984 total time=   6.4s\n",
      "[CV 5/5] END .........C=10, gamma=1, kernel=rbf;, score=0.984 total time=   8.4s\n",
      "[CV 1/5] END .......C=10, gamma=0.1, kernel=rbf;, score=0.880 total time=   3.7s\n",
      "[CV 2/5] END .......C=10, gamma=0.1, kernel=rbf;, score=0.957 total time=   3.5s\n",
      "[CV 3/5] END .......C=10, gamma=0.1, kernel=rbf;, score=0.967 total time=   4.0s\n",
      "[CV 4/5] END .......C=10, gamma=0.1, kernel=rbf;, score=0.972 total time=   6.1s\n",
      "[CV 5/5] END .......C=10, gamma=0.1, kernel=rbf;, score=0.970 total time=   3.8s\n",
      "[CV 1/5] END ......C=10, gamma=0.01, kernel=rbf;, score=0.885 total time=   6.0s\n",
      "[CV 2/5] END ......C=10, gamma=0.01, kernel=rbf;, score=0.934 total time=   8.2s\n",
      "[CV 3/5] END ......C=10, gamma=0.01, kernel=rbf;, score=0.950 total time=   5.6s\n",
      "[CV 4/5] END ......C=10, gamma=0.01, kernel=rbf;, score=0.959 total time=   8.9s\n",
      "[CV 5/5] END ......C=10, gamma=0.01, kernel=rbf;, score=0.950 total time=   6.0s\n",
      "[CV 1/5] END .....C=10, gamma=0.001, kernel=rbf;, score=0.756 total time=  20.2s\n",
      "[CV 2/5] END .....C=10, gamma=0.001, kernel=rbf;, score=0.832 total time=  22.4s\n",
      "[CV 3/5] END .....C=10, gamma=0.001, kernel=rbf;, score=0.850 total time=  22.5s\n",
      "[CV 4/5] END .....C=10, gamma=0.001, kernel=rbf;, score=0.854 total time=  22.0s\n",
      "[CV 5/5] END .....C=10, gamma=0.001, kernel=rbf;, score=0.852 total time=  23.0s\n",
      "[CV 1/5] END ....C=10, gamma=0.0001, kernel=rbf;, score=0.546 total time=  29.0s\n",
      "[CV 2/5] END ....C=10, gamma=0.0001, kernel=rbf;, score=0.575 total time=  29.1s\n",
      "[CV 3/5] END ....C=10, gamma=0.0001, kernel=rbf;, score=0.595 total time=  29.6s\n",
      "[CV 4/5] END ....C=10, gamma=0.0001, kernel=rbf;, score=0.591 total time=  29.3s\n",
      "[CV 5/5] END ....C=10, gamma=0.0001, kernel=rbf;, score=0.590 total time=  30.0s\n",
      "[CV 1/5] END ........C=100, gamma=1, kernel=rbf;, score=0.959 total time=  11.5s\n",
      "[CV 2/5] END ........C=100, gamma=1, kernel=rbf;, score=0.976 total time=  13.6s\n",
      "[CV 3/5] END ........C=100, gamma=1, kernel=rbf;, score=0.983 total time=  13.6s\n",
      "[CV 4/5] END ........C=100, gamma=1, kernel=rbf;, score=0.984 total time=  13.7s\n",
      "[CV 5/5] END ........C=100, gamma=1, kernel=rbf;, score=0.984 total time=  12.9s\n",
      "[CV 1/5] END ......C=100, gamma=0.1, kernel=rbf;, score=0.902 total time=   6.8s\n",
      "[CV 2/5] END ......C=100, gamma=0.1, kernel=rbf;, score=0.960 total time=   7.9s\n",
      "[CV 3/5] END ......C=100, gamma=0.1, kernel=rbf;, score=0.969 total time=   6.3s\n",
      "[CV 4/5] END ......C=100, gamma=0.1, kernel=rbf;, score=0.967 total time=   7.8s\n",
      "[CV 5/5] END ......C=100, gamma=0.1, kernel=rbf;, score=0.967 total time=74.8min\n",
      "[CV 1/5] END .....C=100, gamma=0.01, kernel=rbf;, score=0.926 total time=   5.8s\n",
      "[CV 2/5] END .....C=100, gamma=0.01, kernel=rbf;, score=0.956 total time=   6.8s\n",
      "[CV 3/5] END .....C=100, gamma=0.01, kernel=rbf;, score=0.963 total time=   6.9s\n",
      "[CV 4/5] END .....C=100, gamma=0.01, kernel=rbf;, score=0.964 total time=   6.5s\n",
      "[CV 5/5] END .....C=100, gamma=0.01, kernel=rbf;, score=0.960 total time=   6.2s\n",
      "[CV 1/5] END ....C=100, gamma=0.001, kernel=rbf;, score=0.890 total time=   8.6s\n",
      "[CV 2/5] END ....C=100, gamma=0.001, kernel=rbf;, score=0.932 total time=   5.9s\n",
      "[CV 3/5] END ....C=100, gamma=0.001, kernel=rbf;, score=0.946 total time=   5.2s\n",
      "[CV 4/5] END ....C=100, gamma=0.001, kernel=rbf;, score=0.956 total time=   5.5s\n",
      "[CV 5/5] END ....C=100, gamma=0.001, kernel=rbf;, score=0.949 total time=   5.4s\n",
      "[CV 1/5] END ...C=100, gamma=0.0001, kernel=rbf;, score=0.757 total time=   8.9s\n",
      "[CV 2/5] END ...C=100, gamma=0.0001, kernel=rbf;, score=0.832 total time=   9.7s\n",
      "[CV 3/5] END ...C=100, gamma=0.0001, kernel=rbf;, score=0.850 total time=   9.0s\n",
      "[CV 4/5] END ...C=100, gamma=0.0001, kernel=rbf;, score=0.855 total time=   8.8s\n",
      "[CV 5/5] END ...C=100, gamma=0.0001, kernel=rbf;, score=0.852 total time=  10.0s\n",
      "[CV 1/5] END .......C=1000, gamma=1, kernel=rbf;, score=0.955 total time=   4.5s\n",
      "[CV 2/5] END .......C=1000, gamma=1, kernel=rbf;, score=0.976 total time=   5.5s\n",
      "[CV 3/5] END .......C=1000, gamma=1, kernel=rbf;, score=0.983 total time=   5.7s\n",
      "[CV 4/5] END .......C=1000, gamma=1, kernel=rbf;, score=0.984 total time=   5.4s\n",
      "[CV 5/5] END .......C=1000, gamma=1, kernel=rbf;, score=0.983 total time=   5.3s\n",
      "[CV 1/5] END .....C=1000, gamma=0.1, kernel=rbf;, score=0.943 total time=   3.0s\n",
      "[CV 2/5] END .....C=1000, gamma=0.1, kernel=rbf;, score=0.962 total time=   4.1s\n",
      "[CV 3/5] END .....C=1000, gamma=0.1, kernel=rbf;, score=0.966 total time=   4.1s\n",
      "[CV 4/5] END .....C=1000, gamma=0.1, kernel=rbf;, score=0.970 total time=   3.9s\n",
      "[CV 5/5] END .....C=1000, gamma=0.1, kernel=rbf;, score=0.969 total time=   3.8s\n",
      "[CV 1/5] END ....C=1000, gamma=0.01, kernel=rbf;, score=0.919 total time=   2.7s\n",
      "[CV 2/5] END ....C=1000, gamma=0.01, kernel=rbf;, score=0.953 total time=   3.0s\n",
      "[CV 3/5] END ....C=1000, gamma=0.01, kernel=rbf;, score=0.961 total time=   3.1s\n",
      "[CV 4/5] END ....C=1000, gamma=0.01, kernel=rbf;, score=0.960 total time=   3.2s\n",
      "[CV 5/5] END ....C=1000, gamma=0.01, kernel=rbf;, score=0.963 total time=   3.2s\n",
      "[CV 1/5] END ...C=1000, gamma=0.001, kernel=rbf;, score=0.932 total time=   3.2s\n",
      "[CV 2/5] END ...C=1000, gamma=0.001, kernel=rbf;, score=0.953 total time=   3.4s\n",
      "[CV 3/5] END ...C=1000, gamma=0.001, kernel=rbf;, score=0.960 total time=   3.6s\n",
      "[CV 4/5] END ...C=1000, gamma=0.001, kernel=rbf;, score=0.962 total time=   3.6s\n",
      "[CV 5/5] END ...C=1000, gamma=0.001, kernel=rbf;, score=0.957 total time=   3.6s\n",
      "[CV 1/5] END ..C=1000, gamma=0.0001, kernel=rbf;, score=0.892 total time=   4.9s\n",
      "[CV 2/5] END ..C=1000, gamma=0.0001, kernel=rbf;, score=0.933 total time=   5.4s\n",
      "[CV 3/5] END ..C=1000, gamma=0.0001, kernel=rbf;, score=0.945 total time=   5.4s\n",
      "[CV 4/5] END ..C=1000, gamma=0.0001, kernel=rbf;, score=0.955 total time=   5.5s\n",
      "[CV 5/5] END ..C=1000, gamma=0.0001, kernel=rbf;, score=0.948 total time=   5.3s\n"
     ]
    },
    {
     "data": {
      "text/html": [
       "<style>#sk-container-id-2 {color: black;background-color: white;}#sk-container-id-2 pre{padding: 0;}#sk-container-id-2 div.sk-toggleable {background-color: white;}#sk-container-id-2 label.sk-toggleable__label {cursor: pointer;display: block;width: 100%;margin-bottom: 0;padding: 0.3em;box-sizing: border-box;text-align: center;}#sk-container-id-2 label.sk-toggleable__label-arrow:before {content: \"▸\";float: left;margin-right: 0.25em;color: #696969;}#sk-container-id-2 label.sk-toggleable__label-arrow:hover:before {color: black;}#sk-container-id-2 div.sk-estimator:hover label.sk-toggleable__label-arrow:before {color: black;}#sk-container-id-2 div.sk-toggleable__content {max-height: 0;max-width: 0;overflow: hidden;text-align: left;background-color: #f0f8ff;}#sk-container-id-2 div.sk-toggleable__content pre {margin: 0.2em;color: black;border-radius: 0.25em;background-color: #f0f8ff;}#sk-container-id-2 input.sk-toggleable__control:checked~div.sk-toggleable__content {max-height: 200px;max-width: 100%;overflow: auto;}#sk-container-id-2 input.sk-toggleable__control:checked~label.sk-toggleable__label-arrow:before {content: \"▾\";}#sk-container-id-2 div.sk-estimator input.sk-toggleable__control:checked~label.sk-toggleable__label {background-color: #d4ebff;}#sk-container-id-2 div.sk-label input.sk-toggleable__control:checked~label.sk-toggleable__label {background-color: #d4ebff;}#sk-container-id-2 input.sk-hidden--visually {border: 0;clip: rect(1px 1px 1px 1px);clip: rect(1px, 1px, 1px, 1px);height: 1px;margin: -1px;overflow: hidden;padding: 0;position: absolute;width: 1px;}#sk-container-id-2 div.sk-estimator {font-family: monospace;background-color: #f0f8ff;border: 1px dotted black;border-radius: 0.25em;box-sizing: border-box;margin-bottom: 0.5em;}#sk-container-id-2 div.sk-estimator:hover {background-color: #d4ebff;}#sk-container-id-2 div.sk-parallel-item::after {content: \"\";width: 100%;border-bottom: 1px solid gray;flex-grow: 1;}#sk-container-id-2 div.sk-label:hover label.sk-toggleable__label {background-color: #d4ebff;}#sk-container-id-2 div.sk-serial::before {content: \"\";position: absolute;border-left: 1px solid gray;box-sizing: border-box;top: 0;bottom: 0;left: 50%;z-index: 0;}#sk-container-id-2 div.sk-serial {display: flex;flex-direction: column;align-items: center;background-color: white;padding-right: 0.2em;padding-left: 0.2em;position: relative;}#sk-container-id-2 div.sk-item {position: relative;z-index: 1;}#sk-container-id-2 div.sk-parallel {display: flex;align-items: stretch;justify-content: center;background-color: white;position: relative;}#sk-container-id-2 div.sk-item::before, #sk-container-id-2 div.sk-parallel-item::before {content: \"\";position: absolute;border-left: 1px solid gray;box-sizing: border-box;top: 0;bottom: 0;left: 50%;z-index: -1;}#sk-container-id-2 div.sk-parallel-item {display: flex;flex-direction: column;z-index: 1;position: relative;background-color: white;}#sk-container-id-2 div.sk-parallel-item:first-child::after {align-self: flex-end;width: 50%;}#sk-container-id-2 div.sk-parallel-item:last-child::after {align-self: flex-start;width: 50%;}#sk-container-id-2 div.sk-parallel-item:only-child::after {width: 0;}#sk-container-id-2 div.sk-dashed-wrapped {border: 1px dashed gray;margin: 0 0.4em 0.5em 0.4em;box-sizing: border-box;padding-bottom: 0.4em;background-color: white;}#sk-container-id-2 div.sk-label label {font-family: monospace;font-weight: bold;display: inline-block;line-height: 1.2em;}#sk-container-id-2 div.sk-label-container {text-align: center;}#sk-container-id-2 div.sk-container {/* jupyter's `normalize.less` sets `[hidden] { display: none; }` but bootstrap.min.css set `[hidden] { display: none !important; }` so we also need the `!important` here to be able to override the default hidden behavior on the sphinx rendered scikit-learn.org. See: https://github.com/scikit-learn/scikit-learn/issues/21755 */display: inline-block !important;position: relative;}#sk-container-id-2 div.sk-text-repr-fallback {display: none;}</style><div id=\"sk-container-id-2\" class=\"sk-top-container\"><div class=\"sk-text-repr-fallback\"><pre>GridSearchCV(estimator=SVC(),\n",
       "             param_grid={&#x27;C&#x27;: [0.1, 1, 10, 100, 1000],\n",
       "                         &#x27;gamma&#x27;: [1, 0.1, 0.01, 0.001, 0.0001],\n",
       "                         &#x27;kernel&#x27;: [&#x27;rbf&#x27;]},\n",
       "             verbose=3)</pre><b>In a Jupyter environment, please rerun this cell to show the HTML representation or trust the notebook. <br />On GitHub, the HTML representation is unable to render, please try loading this page with nbviewer.org.</b></div><div class=\"sk-container\" hidden><div class=\"sk-item sk-dashed-wrapped\"><div class=\"sk-label-container\"><div class=\"sk-label sk-toggleable\"><input class=\"sk-toggleable__control sk-hidden--visually\" id=\"sk-estimator-id-4\" type=\"checkbox\" ><label for=\"sk-estimator-id-4\" class=\"sk-toggleable__label sk-toggleable__label-arrow\">GridSearchCV</label><div class=\"sk-toggleable__content\"><pre>GridSearchCV(estimator=SVC(),\n",
       "             param_grid={&#x27;C&#x27;: [0.1, 1, 10, 100, 1000],\n",
       "                         &#x27;gamma&#x27;: [1, 0.1, 0.01, 0.001, 0.0001],\n",
       "                         &#x27;kernel&#x27;: [&#x27;rbf&#x27;]},\n",
       "             verbose=3)</pre></div></div></div><div class=\"sk-parallel\"><div class=\"sk-parallel-item\"><div class=\"sk-item\"><div class=\"sk-label-container\"><div class=\"sk-label sk-toggleable\"><input class=\"sk-toggleable__control sk-hidden--visually\" id=\"sk-estimator-id-5\" type=\"checkbox\" ><label for=\"sk-estimator-id-5\" class=\"sk-toggleable__label sk-toggleable__label-arrow\">estimator: SVC</label><div class=\"sk-toggleable__content\"><pre>SVC()</pre></div></div></div><div class=\"sk-serial\"><div class=\"sk-item\"><div class=\"sk-estimator sk-toggleable\"><input class=\"sk-toggleable__control sk-hidden--visually\" id=\"sk-estimator-id-6\" type=\"checkbox\" ><label for=\"sk-estimator-id-6\" class=\"sk-toggleable__label sk-toggleable__label-arrow\">SVC</label><div class=\"sk-toggleable__content\"><pre>SVC()</pre></div></div></div></div></div></div></div></div></div></div>"
      ],
      "text/plain": [
       "GridSearchCV(estimator=SVC(),\n",
       "             param_grid={'C': [0.1, 1, 10, 100, 1000],\n",
       "                         'gamma': [1, 0.1, 0.01, 0.001, 0.0001],\n",
       "                         'kernel': ['rbf']},\n",
       "             verbose=3)"
      ]
     },
     "execution_count": 242,
     "metadata": {},
     "output_type": "execute_result"
    }
   ],
   "source": [
    "param_grid = {'C': [0.1, 1, 10, 100, 1000], \n",
    "              'gamma': [1, 0.1, 0.01, 0.001, 0.0001],\n",
    "              'kernel': ['rbf']} \n",
    "  \n",
    "grid = GridSearchCV(SVC(), param_grid, refit = True, verbose = 3)\n",
    "  \n",
    "# fitting the model for grid search\n",
    "grid.fit(X_train_tf, y_train_sm)"
   ]
  },
  {
   "cell_type": "code",
   "execution_count": 243,
   "metadata": {},
   "outputs": [
    {
     "name": "stdout",
     "output_type": "stream",
     "text": [
      "{'C': 100, 'gamma': 1, 'kernel': 'rbf'}\n",
      "SVC(C=100, gamma=1)\n"
     ]
    }
   ],
   "source": [
    "# print best parameter after tuning\n",
    "print(grid.best_params_)\n",
    "  \n",
    "# print how our model looks after hyper-parameter tuning\n",
    "print(grid.best_estimator_)"
   ]
  },
  {
   "cell_type": "markdown",
   "metadata": {},
   "source": [
    "## Final Model training after hyperparameter tuning"
   ]
  },
  {
   "cell_type": "code",
   "execution_count": 244,
   "metadata": {},
   "outputs": [
    {
     "name": "stdout",
     "output_type": "stream",
     "text": [
      "12.439643859863281 0.9174569722514928\n"
     ]
    }
   ],
   "source": [
    "X = df[\"tokens\"]\n",
    "y = df[\"sentiment\"]\n",
    "X_train, X_test, y_train, y_test = train_test_split(X, y, stratify = y, random_state=0)\n",
    "\n",
    "tf = fit_tfidf(X_train)\n",
    "X_train_tf = tf.transform(X_train)\n",
    "X_test_tf = tf.transform(X_test)\n",
    "X_train_tf, y_train_sm = oversample_smote(X_train_tf , y_train)\n",
    "\n",
    "model = SVC(C=100, gamma=1, kernel='rbf')\n",
    "start = time.time()\n",
    "model.fit(X_train_tf, y_train_sm)\n",
    "end = time.time()\n",
    "y_pred_cv = model.predict(X_test_tf)\n",
    "acc = accuracy_score(y_test, y_pred_cv)\n",
    "time_taken = end - start\n",
    "print(time_taken , acc)"
   ]
  },
  {
   "cell_type": "code",
   "execution_count": 245,
   "metadata": {},
   "outputs": [
    {
     "name": "stdout",
     "output_type": "stream",
     "text": [
      "0.15558385848999023 0.9016508605549701\n"
     ]
    }
   ],
   "source": [
    "X = df[\"tokens\"]\n",
    "y = df[\"sentiment\"]\n",
    "X_train, X_test, y_train, y_test = train_test_split(X, y, stratify = y, random_state=0)\n",
    "\n",
    "tf = fit_tfidf(X_train)\n",
    "X_train_tf = tf.transform(X_train)\n",
    "X_test_tf = tf.transform(X_test)\n",
    "X_train_tf, y_train_sm = oversample_smote(X_train_tf , y_train)\n",
    "                \n",
    "model = LogisticRegression(C = 46.5, penalty = 'l2',max_iter = 100, tol = 0.01)\n",
    "start = time.time()\n",
    "model.fit(X_train_tf, y_train_sm)\n",
    "end = time.time()\n",
    "y_pred_cv = model.predict(X_test_tf)\n",
    "acc = accuracy_score(y_test, y_pred_cv)\n",
    "time_taken = end - start\n",
    "print(time_taken , acc)"
   ]
  },
  {
   "cell_type": "code",
   "execution_count": 246,
   "metadata": {},
   "outputs": [],
   "source": [
    "import pickle\n",
    "filename = 'senlr.pkl'\n",
    "pickle.dump(model, open(filename, 'wb'), protocol=2)"
   ]
  },
  {
   "cell_type": "code",
   "execution_count": 247,
   "metadata": {},
   "outputs": [
    {
     "name": "stdout",
     "output_type": "stream",
     "text": [
      "Requirement already satisfied: dill in c:\\users\\lenovo\\anaconda3\\lib\\site-packages (0.3.5.1)\n",
      "Note: you may need to restart the kernel to use updated packages.\n"
     ]
    }
   ],
   "source": [
    "pip install dill"
   ]
  },
  {
   "cell_type": "code",
   "execution_count": 248,
   "metadata": {},
   "outputs": [],
   "source": [
    "import dill as pickle\n",
    "pickle.dump(tf, open(\"tfidf.pickle\", \"wb\"))"
   ]
  },
  {
   "cell_type": "markdown",
   "metadata": {},
   "source": [
    "### Checking our model's accuracy from some samples"
   ]
  },
  {
   "cell_type": "code",
   "execution_count": 249,
   "metadata": {},
   "outputs": [],
   "source": [
    "tweet = 'Trash service'\n",
    "tweet = process_tweet(tweet)"
   ]
  },
  {
   "cell_type": "code",
   "execution_count": 250,
   "metadata": {},
   "outputs": [
    {
     "name": "stdout",
     "output_type": "stream",
     "text": [
      "['trash', 'servic']\n"
     ]
    }
   ],
   "source": [
    "print(tweet)"
   ]
  },
  {
   "cell_type": "code",
   "execution_count": 251,
   "metadata": {},
   "outputs": [],
   "source": [
    "tweet = tf.transform(tweet)"
   ]
  },
  {
   "cell_type": "code",
   "execution_count": 252,
   "metadata": {},
   "outputs": [
    {
     "name": "stdout",
     "output_type": "stream",
     "text": [
      "  (0, 4254)\t0.637043806952177\n",
      "  (0, 2335)\t0.7708275994175854\n",
      "  (1, 5725)\t0.5245648294236186\n",
      "  (1, 4254)\t0.4449798565044572\n",
      "  (1, 1596)\t0.513237112374506\n",
      "  (1, 750)\t0.513237112374506\n"
     ]
    }
   ],
   "source": [
    "print(tweet)"
   ]
  },
  {
   "cell_type": "code",
   "execution_count": 253,
   "metadata": {},
   "outputs": [
    {
     "data": {
      "text/plain": [
       "array([0, 0], dtype=int64)"
      ]
     },
     "execution_count": 253,
     "metadata": {},
     "output_type": "execute_result"
    }
   ],
   "source": [
    "model.predict(tweet)"
   ]
  },
  {
   "cell_type": "code",
   "execution_count": 254,
   "metadata": {},
   "outputs": [],
   "source": [
    "tweet = 'very bad service'\n",
    "\n",
    "tweet = process_tweet(tweet)"
   ]
  },
  {
   "cell_type": "code",
   "execution_count": 255,
   "metadata": {},
   "outputs": [
    {
     "name": "stdout",
     "output_type": "stream",
     "text": [
      "['bad', 'servic']\n"
     ]
    }
   ],
   "source": [
    "print(tweet)"
   ]
  },
  {
   "cell_type": "code",
   "execution_count": 256,
   "metadata": {},
   "outputs": [],
   "source": [
    "tweet = tf.transform(tweet)"
   ]
  },
  {
   "cell_type": "code",
   "execution_count": 257,
   "metadata": {},
   "outputs": [
    {
     "name": "stdout",
     "output_type": "stream",
     "text": [
      "  (0, 391)\t1.0\n",
      "  (1, 5725)\t0.5245648294236186\n",
      "  (1, 4254)\t0.4449798565044572\n",
      "  (1, 1596)\t0.513237112374506\n",
      "  (1, 750)\t0.513237112374506\n"
     ]
    }
   ],
   "source": [
    "print(tweet)"
   ]
  },
  {
   "cell_type": "code",
   "execution_count": 258,
   "metadata": {},
   "outputs": [
    {
     "data": {
      "text/plain": [
       "array([0, 0], dtype=int64)"
      ]
     },
     "execution_count": 258,
     "metadata": {},
     "output_type": "execute_result"
    }
   ],
   "source": [
    "model.predict(tweet)"
   ]
  },
  {
   "cell_type": "code",
   "execution_count": 259,
   "metadata": {},
   "outputs": [],
   "source": [
    "probas = model.predict_proba(tweet)"
   ]
  },
  {
   "cell_type": "code",
   "execution_count": 260,
   "metadata": {},
   "outputs": [
    {
     "name": "stdout",
     "output_type": "stream",
     "text": [
      "[[0.99624848 0.00375152]\n",
      " [0.81236616 0.18763384]]\n"
     ]
    }
   ],
   "source": [
    "print(probas)"
   ]
  },
  {
   "cell_type": "code",
   "execution_count": 261,
   "metadata": {},
   "outputs": [
    {
     "data": {
      "text/plain": [
       "array([0.99624848, 0.81236616])"
      ]
     },
     "execution_count": 261,
     "metadata": {},
     "output_type": "execute_result"
    }
   ],
   "source": [
    "probas[:,0]"
   ]
  },
  {
   "cell_type": "code",
   "execution_count": null,
   "metadata": {},
   "outputs": [],
   "source": []
  }
 ],
 "metadata": {
  "accelerator": "GPU",
  "colab": {
   "provenance": []
  },
  "kernelspec": {
   "display_name": "Python 3 (ipykernel)",
   "language": "python",
   "name": "python3"
  },
  "language_info": {
   "codemirror_mode": {
    "name": "ipython",
    "version": 3
   },
   "file_extension": ".py",
   "mimetype": "text/x-python",
   "name": "python",
   "nbconvert_exporter": "python",
   "pygments_lexer": "ipython3",
   "version": "3.9.7"
  }
 },
 "nbformat": 4,
 "nbformat_minor": 1
}
